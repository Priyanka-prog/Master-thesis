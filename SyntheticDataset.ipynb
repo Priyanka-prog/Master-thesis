{
  "nbformat": 4,
  "nbformat_minor": 0,
  "metadata": {
    "colab": {
      "provenance": [],
      "collapsed_sections": []
    },
    "kernelspec": {
      "name": "python3",
      "display_name": "Python 3"
    },
    "language_info": {
      "name": "python"
    }
  },
  "cells": [
    {
      "cell_type": "code",
      "execution_count": null,
      "metadata": {
        "id": "zsAFNI27Du9Q"
      },
      "outputs": [],
      "source": [
        "import numpy as np\n",
        "import csv"
      ]
    },
    {
      "cell_type": "code",
      "source": [
        "n=50\n",
        "mu,sigma=0,0.1\n",
        "noise = np. random. normal(mu,sigma,1)"
      ],
      "metadata": {
        "id": "Px-9G80wD7o3"
      },
      "execution_count": null,
      "outputs": []
    },
    {
      "cell_type": "code",
      "source": [
        "header = ['x','y','f(x,y)']\n"
      ],
      "metadata": {
        "id": "c3AJ3GMudQG1"
      },
      "execution_count": null,
      "outputs": []
    },
    {
      "cell_type": "code",
      "source": [
        "with open('synthetic dataset.csv','w',newline='') as file:\n",
        "  writer=csv.writer(file)\n",
        "  writer.writerow(header)\n",
        "  for i in range(1,n):\n",
        "    for j in range(1,n):\n",
        "      target=4*i*i-3*i*j+ noise\n",
        "      [writer.writerow([i,j,target[0]])]"
      ],
      "metadata": {
        "id": "N3TkDmDIECbP"
      },
      "execution_count": null,
      "outputs": []
    }
  ]
}