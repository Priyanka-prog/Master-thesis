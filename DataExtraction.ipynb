{
  "cells": [
    {
      "cell_type": "code",
      "execution_count": null,
      "metadata": {
        "colab": {
          "base_uri": "https://localhost:8080/"
        },
        "id": "i8NLB8NUTIan",
        "outputId": "c57dc046-1e6a-478f-89cb-5adcdb0d3f31"
      },
      "outputs": [
        {
          "output_type": "stream",
          "name": "stdout",
          "text": [
            "Drive already mounted at /content/drive; to attempt to forcibly remount, call drive.mount(\"/content/drive\", force_remount=True).\n"
          ]
        }
      ],
      "source": [
        "# Run this cell only if you are using Colab with Drive\n",
        "from google.colab import drive\n",
        "drive.mount('/content/drive')"
      ]
    },
    {
      "cell_type": "code",
      "execution_count": null,
      "metadata": {
        "colab": {
          "base_uri": "https://localhost:8080/"
        },
        "id": "X17ktm8mVtQn",
        "outputId": "b7344212-91fd-43b6-c549-7cac1869e43e"
      },
      "outputs": [
        {
          "output_type": "stream",
          "name": "stdout",
          "text": [
            "Archive:  /content/drive/My Drive/Agrawal_50000.zip\n",
            "replace best_worst_new.json? [y]es, [n]o, [A]ll, [N]one, [r]ename: n\n",
            "replace ensemble_metrics.csv? [y]es, [n]o, [A]ll, [N]one, [r]ename: n\n",
            "replace population_accuracies.csv? [y]es, [n]o, [A]ll, [N]one, [r]ename: n\n",
            "replace population_kappas.csv? [y]es, [n]o, [A]ll, [N]one, [r]ename: n\n",
            "replace population_steps.json? [y]es, [n]o, [A]ll, [N]one, [r]ename: n\n"
          ]
        }
      ],
      "source": [
        "# Run this cell only if you are using Colab with Drive\n",
        "!unzip '/content/drive/My Drive/Agrawal_50000.zip'"
      ]
    },
    {
      "cell_type": "code",
      "execution_count": null,
      "metadata": {
        "id": "G6x2sFor5wcS"
      },
      "outputs": [],
      "source": [
        "import pandas as pd"
      ]
    },
    {
      "cell_type": "code",
      "execution_count": null,
      "metadata": {
        "id": "GYEN_-45Ipyd"
      },
      "outputs": [],
      "source": [
        "df_json1=pd.read_json(\"best_worst_new.json\")\n",
        "df_json1.to_csv(\"best_worst_new.csv\", index=None)"
      ]
    },
    {
      "cell_type": "code",
      "execution_count": null,
      "metadata": {
        "id": "LdN5Ke6lI3YM"
      },
      "outputs": [],
      "source": [
        "df_json2=pd.read_json(\"population_steps.json\")\n",
        "df_json2.to_csv(\"population_steps.csv\", index=None)"
      ]
    },
    {
      "cell_type": "code",
      "execution_count": null,
      "metadata": {
        "id": "xWo6HbHU-T_d"
      },
      "outputs": [],
      "source": [
        "list_of_names = ['population_accuracies', 'ensemble_metrics','population_kappas', 'population_steps', 'best_worst_new']\n",
        "\n",
        "dataframes_list=[]\n",
        "\n",
        "for i in range(len(list_of_names)):\n",
        "  temp_df=pd.read_csv(list_of_names[i]+\".csv\")\n",
        "  dataframes_list.append(temp_df)"
      ]
    },
    {
      "cell_type": "code",
      "execution_count": null,
      "metadata": {
        "colab": {
          "base_uri": "https://localhost:8080/",
          "height": 655
        },
        "id": "S6j3UvBoAl1-",
        "outputId": "4d68a89b-d4f2-481c-8488-316b7e193466"
      },
      "outputs": [
        {
          "output_type": "execute_result",
          "data": {
            "text/plain": [
              "     accuracy_1  accuracy_2  accuracy_3  accuracy_4  accuracy_5  accuracy_6  \\\n",
              "0      0.000000     0.00000    0.000000    0.000000    0.000000    0.000000   \n",
              "1      0.928000     0.89900    0.833000    0.635000    0.579000    0.669000   \n",
              "2      0.964000     0.94900    0.894000    0.605500    0.568000    0.678000   \n",
              "3      0.976000     0.96600    0.916333    0.604333    0.890000    0.676333   \n",
              "4      0.982000     0.97325    0.934000    0.899000    0.935000    0.675500   \n",
              "..          ...         ...         ...         ...         ...         ...   \n",
              "995    0.925096     0.77100    0.916871    0.910081    0.919152    0.919253   \n",
              "996    0.925012     0.72200    0.916785    0.909998    0.919051    0.919162   \n",
              "997    0.924941     0.64100    0.916699    0.909920    0.918966    0.919066   \n",
              "998    0.924886     0.58400    0.916637    0.909856    0.918896    0.919021   \n",
              "999    0.924788     0.63800    0.916575    0.909756    0.918810    0.918913   \n",
              "\n",
              "     accuracy_7  accuracy_8  accuracy_9  accuracy_10  \n",
              "0      0.000000    0.000000    0.000000     0.000000  \n",
              "1      0.566000    0.660000    0.870000     0.905000  \n",
              "2      0.967000    0.658000    0.928500     0.949500  \n",
              "3      0.981000    0.658667    0.951667     0.966333  \n",
              "4      0.987333    0.661750    0.963500     0.974750  \n",
              "..          ...         ...         ...          ...  \n",
              "995    0.910086    0.907497    0.927000     0.924526  \n",
              "996    0.909985    0.907424    0.926903     0.924429  \n",
              "997    0.909920    0.907333    0.926825     0.924342  \n",
              "998    0.909888    0.907289    0.926744     0.924278  \n",
              "999    0.909812    0.907233    0.926662     0.924196  \n",
              "\n",
              "[1000 rows x 10 columns]"
            ],
            "text/html": [
              "\n",
              "  <div id=\"df-8d605740-2117-4bb2-8628-47b9a8643809\">\n",
              "    <div class=\"colab-df-container\">\n",
              "      <div>\n",
              "<style scoped>\n",
              "    .dataframe tbody tr th:only-of-type {\n",
              "        vertical-align: middle;\n",
              "    }\n",
              "\n",
              "    .dataframe tbody tr th {\n",
              "        vertical-align: top;\n",
              "    }\n",
              "\n",
              "    .dataframe thead th {\n",
              "        text-align: right;\n",
              "    }\n",
              "</style>\n",
              "<table border=\"1\" class=\"dataframe\">\n",
              "  <thead>\n",
              "    <tr style=\"text-align: right;\">\n",
              "      <th></th>\n",
              "      <th>accuracy_1</th>\n",
              "      <th>accuracy_2</th>\n",
              "      <th>accuracy_3</th>\n",
              "      <th>accuracy_4</th>\n",
              "      <th>accuracy_5</th>\n",
              "      <th>accuracy_6</th>\n",
              "      <th>accuracy_7</th>\n",
              "      <th>accuracy_8</th>\n",
              "      <th>accuracy_9</th>\n",
              "      <th>accuracy_10</th>\n",
              "    </tr>\n",
              "  </thead>\n",
              "  <tbody>\n",
              "    <tr>\n",
              "      <th>0</th>\n",
              "      <td>0.000000</td>\n",
              "      <td>0.00000</td>\n",
              "      <td>0.000000</td>\n",
              "      <td>0.000000</td>\n",
              "      <td>0.000000</td>\n",
              "      <td>0.000000</td>\n",
              "      <td>0.000000</td>\n",
              "      <td>0.000000</td>\n",
              "      <td>0.000000</td>\n",
              "      <td>0.000000</td>\n",
              "    </tr>\n",
              "    <tr>\n",
              "      <th>1</th>\n",
              "      <td>0.928000</td>\n",
              "      <td>0.89900</td>\n",
              "      <td>0.833000</td>\n",
              "      <td>0.635000</td>\n",
              "      <td>0.579000</td>\n",
              "      <td>0.669000</td>\n",
              "      <td>0.566000</td>\n",
              "      <td>0.660000</td>\n",
              "      <td>0.870000</td>\n",
              "      <td>0.905000</td>\n",
              "    </tr>\n",
              "    <tr>\n",
              "      <th>2</th>\n",
              "      <td>0.964000</td>\n",
              "      <td>0.94900</td>\n",
              "      <td>0.894000</td>\n",
              "      <td>0.605500</td>\n",
              "      <td>0.568000</td>\n",
              "      <td>0.678000</td>\n",
              "      <td>0.967000</td>\n",
              "      <td>0.658000</td>\n",
              "      <td>0.928500</td>\n",
              "      <td>0.949500</td>\n",
              "    </tr>\n",
              "    <tr>\n",
              "      <th>3</th>\n",
              "      <td>0.976000</td>\n",
              "      <td>0.96600</td>\n",
              "      <td>0.916333</td>\n",
              "      <td>0.604333</td>\n",
              "      <td>0.890000</td>\n",
              "      <td>0.676333</td>\n",
              "      <td>0.981000</td>\n",
              "      <td>0.658667</td>\n",
              "      <td>0.951667</td>\n",
              "      <td>0.966333</td>\n",
              "    </tr>\n",
              "    <tr>\n",
              "      <th>4</th>\n",
              "      <td>0.982000</td>\n",
              "      <td>0.97325</td>\n",
              "      <td>0.934000</td>\n",
              "      <td>0.899000</td>\n",
              "      <td>0.935000</td>\n",
              "      <td>0.675500</td>\n",
              "      <td>0.987333</td>\n",
              "      <td>0.661750</td>\n",
              "      <td>0.963500</td>\n",
              "      <td>0.974750</td>\n",
              "    </tr>\n",
              "    <tr>\n",
              "      <th>...</th>\n",
              "      <td>...</td>\n",
              "      <td>...</td>\n",
              "      <td>...</td>\n",
              "      <td>...</td>\n",
              "      <td>...</td>\n",
              "      <td>...</td>\n",
              "      <td>...</td>\n",
              "      <td>...</td>\n",
              "      <td>...</td>\n",
              "      <td>...</td>\n",
              "    </tr>\n",
              "    <tr>\n",
              "      <th>995</th>\n",
              "      <td>0.925096</td>\n",
              "      <td>0.77100</td>\n",
              "      <td>0.916871</td>\n",
              "      <td>0.910081</td>\n",
              "      <td>0.919152</td>\n",
              "      <td>0.919253</td>\n",
              "      <td>0.910086</td>\n",
              "      <td>0.907497</td>\n",
              "      <td>0.927000</td>\n",
              "      <td>0.924526</td>\n",
              "    </tr>\n",
              "    <tr>\n",
              "      <th>996</th>\n",
              "      <td>0.925012</td>\n",
              "      <td>0.72200</td>\n",
              "      <td>0.916785</td>\n",
              "      <td>0.909998</td>\n",
              "      <td>0.919051</td>\n",
              "      <td>0.919162</td>\n",
              "      <td>0.909985</td>\n",
              "      <td>0.907424</td>\n",
              "      <td>0.926903</td>\n",
              "      <td>0.924429</td>\n",
              "    </tr>\n",
              "    <tr>\n",
              "      <th>997</th>\n",
              "      <td>0.924941</td>\n",
              "      <td>0.64100</td>\n",
              "      <td>0.916699</td>\n",
              "      <td>0.909920</td>\n",
              "      <td>0.918966</td>\n",
              "      <td>0.919066</td>\n",
              "      <td>0.909920</td>\n",
              "      <td>0.907333</td>\n",
              "      <td>0.926825</td>\n",
              "      <td>0.924342</td>\n",
              "    </tr>\n",
              "    <tr>\n",
              "      <th>998</th>\n",
              "      <td>0.924886</td>\n",
              "      <td>0.58400</td>\n",
              "      <td>0.916637</td>\n",
              "      <td>0.909856</td>\n",
              "      <td>0.918896</td>\n",
              "      <td>0.919021</td>\n",
              "      <td>0.909888</td>\n",
              "      <td>0.907289</td>\n",
              "      <td>0.926744</td>\n",
              "      <td>0.924278</td>\n",
              "    </tr>\n",
              "    <tr>\n",
              "      <th>999</th>\n",
              "      <td>0.924788</td>\n",
              "      <td>0.63800</td>\n",
              "      <td>0.916575</td>\n",
              "      <td>0.909756</td>\n",
              "      <td>0.918810</td>\n",
              "      <td>0.918913</td>\n",
              "      <td>0.909812</td>\n",
              "      <td>0.907233</td>\n",
              "      <td>0.926662</td>\n",
              "      <td>0.924196</td>\n",
              "    </tr>\n",
              "  </tbody>\n",
              "</table>\n",
              "<p>1000 rows × 10 columns</p>\n",
              "</div>\n",
              "      <button class=\"colab-df-convert\" onclick=\"convertToInteractive('df-8d605740-2117-4bb2-8628-47b9a8643809')\"\n",
              "              title=\"Convert this dataframe to an interactive table.\"\n",
              "              style=\"display:none;\">\n",
              "        \n",
              "  <svg xmlns=\"http://www.w3.org/2000/svg\" height=\"24px\"viewBox=\"0 0 24 24\"\n",
              "       width=\"24px\">\n",
              "    <path d=\"M0 0h24v24H0V0z\" fill=\"none\"/>\n",
              "    <path d=\"M18.56 5.44l.94 2.06.94-2.06 2.06-.94-2.06-.94-.94-2.06-.94 2.06-2.06.94zm-11 1L8.5 8.5l.94-2.06 2.06-.94-2.06-.94L8.5 2.5l-.94 2.06-2.06.94zm10 10l.94 2.06.94-2.06 2.06-.94-2.06-.94-.94-2.06-.94 2.06-2.06.94z\"/><path d=\"M17.41 7.96l-1.37-1.37c-.4-.4-.92-.59-1.43-.59-.52 0-1.04.2-1.43.59L10.3 9.45l-7.72 7.72c-.78.78-.78 2.05 0 2.83L4 21.41c.39.39.9.59 1.41.59.51 0 1.02-.2 1.41-.59l7.78-7.78 2.81-2.81c.8-.78.8-2.07 0-2.86zM5.41 20L4 18.59l7.72-7.72 1.47 1.35L5.41 20z\"/>\n",
              "  </svg>\n",
              "      </button>\n",
              "      \n",
              "  <style>\n",
              "    .colab-df-container {\n",
              "      display:flex;\n",
              "      flex-wrap:wrap;\n",
              "      gap: 12px;\n",
              "    }\n",
              "\n",
              "    .colab-df-convert {\n",
              "      background-color: #E8F0FE;\n",
              "      border: none;\n",
              "      border-radius: 50%;\n",
              "      cursor: pointer;\n",
              "      display: none;\n",
              "      fill: #1967D2;\n",
              "      height: 32px;\n",
              "      padding: 0 0 0 0;\n",
              "      width: 32px;\n",
              "    }\n",
              "\n",
              "    .colab-df-convert:hover {\n",
              "      background-color: #E2EBFA;\n",
              "      box-shadow: 0px 1px 2px rgba(60, 64, 67, 0.3), 0px 1px 3px 1px rgba(60, 64, 67, 0.15);\n",
              "      fill: #174EA6;\n",
              "    }\n",
              "\n",
              "    [theme=dark] .colab-df-convert {\n",
              "      background-color: #3B4455;\n",
              "      fill: #D2E3FC;\n",
              "    }\n",
              "\n",
              "    [theme=dark] .colab-df-convert:hover {\n",
              "      background-color: #434B5C;\n",
              "      box-shadow: 0px 1px 3px 1px rgba(0, 0, 0, 0.15);\n",
              "      filter: drop-shadow(0px 1px 2px rgba(0, 0, 0, 0.3));\n",
              "      fill: #FFFFFF;\n",
              "    }\n",
              "  </style>\n",
              "\n",
              "      <script>\n",
              "        const buttonEl =\n",
              "          document.querySelector('#df-8d605740-2117-4bb2-8628-47b9a8643809 button.colab-df-convert');\n",
              "        buttonEl.style.display =\n",
              "          google.colab.kernel.accessAllowed ? 'block' : 'none';\n",
              "\n",
              "        async function convertToInteractive(key) {\n",
              "          const element = document.querySelector('#df-8d605740-2117-4bb2-8628-47b9a8643809');\n",
              "          const dataTable =\n",
              "            await google.colab.kernel.invokeFunction('convertToInteractive',\n",
              "                                                     [key], {});\n",
              "          if (!dataTable) return;\n",
              "\n",
              "          const docLinkHtml = 'Like what you see? Visit the ' +\n",
              "            '<a target=\"_blank\" href=https://colab.research.google.com/notebooks/data_table.ipynb>data table notebook</a>'\n",
              "            + ' to learn more about interactive tables.';\n",
              "          element.innerHTML = '';\n",
              "          dataTable['output_type'] = 'display_data';\n",
              "          await google.colab.output.renderOutput(dataTable, element);\n",
              "          const docLink = document.createElement('div');\n",
              "          docLink.innerHTML = docLinkHtml;\n",
              "          element.appendChild(docLink);\n",
              "        }\n",
              "      </script>\n",
              "    </div>\n",
              "  </div>\n",
              "  "
            ]
          },
          "metadata": {},
          "execution_count": 17
        }
      ],
      "source": [
        "dataframes_list[0]"
      ]
    },
    {
      "cell_type": "code",
      "execution_count": null,
      "metadata": {
        "id": "4Azbc6g4A08q"
      },
      "outputs": [],
      "source": [
        "dataframes_list[1]"
      ]
    },
    {
      "cell_type": "code",
      "execution_count": null,
      "metadata": {
        "id": "N991sXggA3km"
      },
      "outputs": [],
      "source": [
        "dataframes_list[2]"
      ]
    },
    {
      "cell_type": "code",
      "source": [
        "dataframes_list[4]"
      ],
      "metadata": {
        "id": "6LKEgKRRTsh7"
      },
      "execution_count": null,
      "outputs": []
    },
    {
      "cell_type": "code",
      "execution_count": null,
      "metadata": {
        "id": "jAgvBGngiNty"
      },
      "outputs": [],
      "source": [
        "dataframes_list[3]"
      ]
    },
    {
      "cell_type": "code",
      "source": [
        "temp0=pd.DataFrame([[k,v.values]\n",
        "                        for k,v in dataframes_list[3].groupby('0').groups.items()], \n",
        "                      columns=['col','indices'])\n",
        "temp1=pd.DataFrame([[k,v.values]\n",
        "                        for k,v in dataframes_list[3].groupby('1').groups.items()], \n",
        "                      columns=['col','indices'])\n",
        "temp2=pd.DataFrame([[k,v.values]\n",
        "                        for k,v in dataframes_list[3].groupby('2').groups.items()], \n",
        "                      columns=['col','indices'])\n",
        "temp3=pd.DataFrame([[k,v.values]\n",
        "                        for k,v in dataframes_list[3].groupby('3').groups.items()], \n",
        "                      columns=['col','indices'])\n",
        "temp4=pd.DataFrame([[k,v.values]\n",
        "                        for k,v in dataframes_list[3].groupby('4').groups.items()], \n",
        "                      columns=['col','indices'])\n",
        "temp5=pd.DataFrame([[k,v.values]\n",
        "                        for k,v in dataframes_list[3].groupby('5').groups.items()], \n",
        "                      columns=['col','indices'])\n",
        "temp6=pd.DataFrame([[k,v.values]\n",
        "                        for k,v in dataframes_list[3].groupby('6').groups.items()], \n",
        "                      columns=['col','indices'])\n",
        "temp7=pd.DataFrame([[k,v.values]\n",
        "                        for k,v in dataframes_list[3].groupby('7').groups.items()], \n",
        "                      columns=['col','indices'])\n",
        "temp8=pd.DataFrame([[k,v.values]\n",
        "                        for k,v in dataframes_list[3].groupby('8').groups.items()], \n",
        "                      columns=['col','indices'])\n",
        "temp9=pd.DataFrame([[k,v.values]\n",
        "                        for k,v in dataframes_list[3].groupby('9').groups.items()], \n",
        "                      columns=['col','indices'])"
      ],
      "metadata": {
        "id": "6E60i3_me4Gz"
      },
      "execution_count": 176,
      "outputs": []
    },
    {
      "cell_type": "code",
      "source": [
        "#temp_data=pd.concat([temp0['col'],temp1['col'],temp2['col'],temp3['col'],temp4['col'],temp5['col'],temp6['col'],temp7['col'],temp8['col'],temp9['col']]).unique()"
      ],
      "metadata": {
        "id": "qicqALC4oNVM"
      },
      "execution_count": 167,
      "outputs": []
    },
    {
      "cell_type": "code",
      "source": [
        "temp_data=pd.DataFrame()\n",
        "result=pd.DataFrame()\n",
        "result=temp_data.append([temp0,temp1,temp2,temp3,temp4,temp5,temp6,temp7,temp8,temp9])"
      ],
      "metadata": {
        "id": "KR_8k28v_XW0"
      },
      "execution_count": 177,
      "outputs": []
    },
    {
      "cell_type": "code",
      "source": [
        "result.columns"
      ],
      "metadata": {
        "colab": {
          "base_uri": "https://localhost:8080/"
        },
        "id": "S0oOP-IfUyxi",
        "outputId": "81d642f3-1f1c-49a6-879b-5762ffee7c61"
      },
      "execution_count": 178,
      "outputs": [
        {
          "output_type": "execute_result",
          "data": {
            "text/plain": [
              "Index(['col', 'indices'], dtype='object')"
            ]
          },
          "metadata": {},
          "execution_count": 178
        }
      ]
    },
    {
      "cell_type": "code",
      "source": [
        "from itertools import groupby\n",
        "from operator import itemgetter\n",
        "res = {keys: [i for _, i in sub] for keys, sub in groupby(\n",
        "         zip(result['col'], result['indices']), key = itemgetter(0))}\n"
      ],
      "metadata": {
        "id": "Zfy4TS3LiI_D"
      },
      "execution_count": 179,
      "outputs": []
    },
    {
      "cell_type": "code",
      "source": [
        "import csv\n",
        "\n",
        "# Open the file in writing mode (no blank lines)\n",
        "with open('my_file.csv', 'w', newline='') as f:\n",
        "\n",
        "    # Create a CSV writer object\n",
        "    writer = csv.writer(f)\n",
        "\n",
        "    # Write one key-value tuple per row\n",
        "    for row in res.items():\n",
        "        writer.writerow(row)"
      ],
      "metadata": {
        "id": "NEdomNU1lc_g"
      },
      "execution_count": 180,
      "outputs": []
    },
    {
      "cell_type": "code",
      "source": [
        "output = ['class_description', 'indices','accuracies']\n",
        "\n",
        "output_list=[]\n",
        "\n",
        "for i in range(len(output)):\n",
        "  temp_out=pd.read_csv(output[i]+\".csv\")\n",
        "  output_list.append(temp_df)"
      ],
      "metadata": {
        "id": "4mWO0h3arF8u"
      },
      "execution_count": null,
      "outputs": []
    },
    {
      "cell_type": "code",
      "source": [
        "#pd.DataFrame(temp_data).to_csv('file_name_temp.csv')"
      ],
      "metadata": {
        "id": "NIylHPtgpncL"
      },
      "execution_count": 174,
      "outputs": []
    },
    {
      "cell_type": "code",
      "source": [
        "#temp= pd.Index([dataframes_list[3]['0'],dataframes_list[3]['1'],dataframes_list[3]['2'],dataframes_list[3]['3'],dataframes_list[3]['4'],dataframes_list[3]['5'],dataframes_list[3]['6'],dataframes_list[3]['7'],dataframes_list[3]['8'],dataframes_list[3]['9']])"
      ],
      "metadata": {
        "id": "ELrCVxU1fhRz"
      },
      "execution_count": 164,
      "outputs": []
    },
    {
      "cell_type": "code",
      "execution_count": 43,
      "metadata": {
        "id": "E9D7fGkazjAT"
      },
      "outputs": [],
      "source": [
        "#import pandas as pd\n",
        "#class_description= pd.concat([dataframes_list[3]['0'],dataframes_list[3]['1'],dataframes_list[3]['2'],dataframes_list[3]['3'],dataframes_list[3]['4'],dataframes_list[3]['5'],dataframes_list[3]['6'],dataframes_list[3]['7'],dataframes_list[3]['8'],dataframes_list[3]['9']]).unique()\n",
        "\n"
      ]
    },
    {
      "cell_type": "code",
      "source": [
        "#pd.concat(temp).unique()"
      ],
      "metadata": {
        "id": "Wj4kK-qodxlq"
      },
      "execution_count": null,
      "outputs": []
    },
    {
      "cell_type": "code",
      "execution_count": 166,
      "metadata": {
        "id": "GR4ROBN4Eqsm"
      },
      "outputs": [],
      "source": [
        "#import csv\n",
        "#pd.DataFrame(class_description).to_csv('file_name.csv')"
      ]
    },
    {
      "cell_type": "code",
      "execution_count": null,
      "metadata": {
        "id": "Sm8JYzqsHtP9"
      },
      "outputs": [],
      "source": [
        "#class_description"
      ]
    }
  ],
  "metadata": {
    "colab": {
      "collapsed_sections": [],
      "provenance": []
    },
    "kernelspec": {
      "display_name": "Python 3",
      "name": "python3"
    },
    "language_info": {
      "name": "python"
    }
  },
  "nbformat": 4,
  "nbformat_minor": 0
}