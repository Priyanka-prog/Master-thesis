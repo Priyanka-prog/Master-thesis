{
 "cells": [
  {
   "cell_type": "code",
   "execution_count": 1,
   "id": "fd959ec3",
   "metadata": {},
   "outputs": [],
   "source": [
    "import pandas as pd"
   ]
  },
  {
   "cell_type": "code",
   "execution_count": 2,
   "id": "0f37d826",
   "metadata": {},
   "outputs": [],
   "source": [
    "dataset_original = pd.read_csv(\"F:\\Laurea Magistrale\\Master Thesis\\Dataset\\Sine\\DatasetWithAccuracy.csv\")"
   ]
  },
  {
   "cell_type": "code",
   "execution_count": 3,
   "id": "fc66cc2d",
   "metadata": {},
   "outputs": [
    {
     "data": {
      "text/html": [
       "<div>\n",
       "<style scoped>\n",
       "    .dataframe tbody tr th:only-of-type {\n",
       "        vertical-align: middle;\n",
       "    }\n",
       "\n",
       "    .dataframe tbody tr th {\n",
       "        vertical-align: top;\n",
       "    }\n",
       "\n",
       "    .dataframe thead th {\n",
       "        text-align: right;\n",
       "    }\n",
       "</style>\n",
       "<table border=\"1\" class=\"dataframe\">\n",
       "  <thead>\n",
       "    <tr style=\"text-align: right;\">\n",
       "      <th></th>\n",
       "      <th>0</th>\n",
       "      <th>1</th>\n",
       "      <th>Accuracy</th>\n",
       "    </tr>\n",
       "  </thead>\n",
       "  <tbody>\n",
       "    <tr>\n",
       "      <th>0</th>\n",
       "      <td>0.374540</td>\n",
       "      <td>0.950714</td>\n",
       "      <td>0.00</td>\n",
       "    </tr>\n",
       "    <tr>\n",
       "      <th>1</th>\n",
       "      <td>0.731994</td>\n",
       "      <td>0.598658</td>\n",
       "      <td>0.00</td>\n",
       "    </tr>\n",
       "    <tr>\n",
       "      <th>2</th>\n",
       "      <td>0.156019</td>\n",
       "      <td>0.155995</td>\n",
       "      <td>0.75</td>\n",
       "    </tr>\n",
       "    <tr>\n",
       "      <th>3</th>\n",
       "      <td>0.058084</td>\n",
       "      <td>0.866176</td>\n",
       "      <td>0.00</td>\n",
       "    </tr>\n",
       "    <tr>\n",
       "      <th>4</th>\n",
       "      <td>0.601115</td>\n",
       "      <td>0.708073</td>\n",
       "      <td>0.00</td>\n",
       "    </tr>\n",
       "  </tbody>\n",
       "</table>\n",
       "</div>"
      ],
      "text/plain": [
       "          0         1  Accuracy\n",
       "0  0.374540  0.950714      0.00\n",
       "1  0.731994  0.598658      0.00\n",
       "2  0.156019  0.155995      0.75\n",
       "3  0.058084  0.866176      0.00\n",
       "4  0.601115  0.708073      0.00"
      ]
     },
     "execution_count": 3,
     "metadata": {},
     "output_type": "execute_result"
    }
   ],
   "source": [
    "dataset_original.head()"
   ]
  },
  {
   "cell_type": "code",
   "execution_count": 4,
   "id": "0f96a42e",
   "metadata": {},
   "outputs": [
    {
     "data": {
      "text/plain": [
       "0.338659073"
      ]
     },
     "execution_count": 4,
     "metadata": {},
     "output_type": "execute_result"
    }
   ],
   "source": [
    "dataset_original.loc[999999][0]"
   ]
  },
  {
   "cell_type": "code",
   "execution_count": 5,
   "id": "5687060e",
   "metadata": {},
   "outputs": [
    {
     "name": "stdout",
     "output_type": "stream",
     "text": [
      "     feat_01   feat_11   feat_02   feat_12   feat_03   feat_13   feat_04  \\\n",
      "0   0.079160  0.626310  0.901669  0.181788  0.189372  0.659378  0.237569   \n",
      "1   0.901669  0.181788  0.189372  0.659378  0.237569  0.506175  0.533941   \n",
      "2   0.189372  0.659378  0.237569  0.506175  0.533941  0.237569  0.425181   \n",
      "3   0.237569  0.506175  0.533941  0.237569  0.425181  0.117681  0.368331   \n",
      "4   0.533941  0.237569  0.425181  0.117681  0.368331  0.613252  0.336005   \n",
      "..       ...       ...       ...       ...       ...       ...       ...   \n",
      "93  0.006660  0.351132  0.087649  0.708087  0.769237  0.855305  0.426246   \n",
      "94  0.087649  0.708087  0.769237  0.855305  0.426246  0.460579  0.905160   \n",
      "95       NaN       NaN       NaN       NaN       NaN       NaN       NaN   \n",
      "96       NaN       NaN       NaN       NaN       NaN       NaN       NaN   \n",
      "97       NaN       NaN       NaN       NaN       NaN       NaN       NaN   \n",
      "\n",
      "     feat_14   feat_05   feat_15  acc_target  \n",
      "0   0.506175  0.533941  0.237569         NaN  \n",
      "1   0.237569  0.425181  0.117681         NaN  \n",
      "2   0.117681  0.368331  0.613252         NaN  \n",
      "3   0.613252  0.336005  0.595583         NaN  \n",
      "4   0.595583  0.079774  0.312210         NaN  \n",
      "..       ...       ...       ...         ...  \n",
      "93  0.460579  0.905160  0.683111         NaN  \n",
      "94  0.683111  0.338659  0.691616         NaN  \n",
      "95       NaN       NaN       NaN         NaN  \n",
      "96       NaN       NaN       NaN         NaN  \n",
      "97       NaN       NaN       NaN         NaN  \n",
      "\n",
      "[98 rows x 11 columns]\n"
     ]
    }
   ],
   "source": [
    "generated_dataset= pd.DataFrame({\n",
    "    'feat_01': [],\n",
    "    'feat_11': [],\n",
    "    'feat_02': [],\n",
    "    'feat_12': [],\n",
    "    'feat_03': [],\n",
    "    'feat_13': [],\n",
    "    'feat_04': [],\n",
    "    'feat_14': [],\n",
    "    'feat_05': [],\n",
    "    'feat_15': [],\n",
    "    'acc_target': []\n",
    "})\n",
    "start=0\n",
    "end=5\n",
    "for i in range(999901,999999):\n",
    "    row_values = {}\n",
    "    for j in range(start, end):\n",
    "        if(i+4<=999999):\n",
    "            row_values['feat_01'] = dataset_original.loc[i][0]\n",
    "            row_values['feat_11'] = dataset_original.loc[i][1]\n",
    "            row_values['feat_02'] = dataset_original.loc[i+1][0]\n",
    "            row_values['feat_12'] = dataset_original.loc[i+1][1]\n",
    "            row_values['feat_03'] = dataset_original.loc[i+2][0]\n",
    "            row_values['feat_13'] = dataset_original.loc[i+2][1] \n",
    "            row_values['feat_04'] = dataset_original.loc[i+3][0]\n",
    "            row_values['feat_14'] = dataset_original.loc[i+3][1] \n",
    "            row_values['feat_05'] = dataset_original.loc[i+4][0]\n",
    "            row_values['feat_15'] = dataset_original.loc[i+4][1]  \n",
    "            row_values['acc_target'] = dataset_original.loc[i][2]\n",
    "    generated_dataset = generated_dataset.append(row_values, ignore_index=True)\n",
    "    start = start + 1\n",
    "    end = end + 1\n",
    "\n",
    "print(generated_dataset)"
   ]
  },
  {
   "cell_type": "code",
   "execution_count": 6,
   "id": "802e6fb8",
   "metadata": {},
   "outputs": [],
   "source": [
    "generated_dataset.to_csv('generated_dataset.csv', index=False)"
   ]
  },
  {
   "cell_type": "code",
   "execution_count": 11,
   "id": "7e31025d",
   "metadata": {},
   "outputs": [
    {
     "data": {
      "text/plain": [
       "0.0"
      ]
     },
     "execution_count": 11,
     "metadata": {},
     "output_type": "execute_result"
    }
   ],
   "source": [
    "dataset_original.loc[0][2]"
   ]
  },
  {
   "cell_type": "code",
   "execution_count": 13,
   "id": "02c6d47c",
   "metadata": {},
   "outputs": [
    {
     "name": "stdout",
     "output_type": "stream",
     "text": [
      "      feat_01   feat_11   feat_02   feat_12   feat_03   feat_13   feat_04  \\\n",
      "0    0.201231  0.780043  0.095891  0.914805  0.112026  0.990400  0.622160   \n",
      "1    0.095891  0.914805  0.112026  0.990400  0.622160  0.303984  0.401484   \n",
      "2    0.112026  0.990400  0.622160  0.303984  0.401484  0.086124  0.338420   \n",
      "3    0.622160  0.303984  0.401484  0.086124  0.338420  0.034517  0.540731   \n",
      "4    0.401484  0.086124  0.338420  0.034517  0.540731  0.678994  0.726798   \n",
      "..        ...       ...       ...       ...       ...       ...       ...   \n",
      "994  0.315165  0.357969  0.898852  0.206804  0.772594  0.758027  0.259799   \n",
      "995  0.898852  0.206804  0.772594  0.758027  0.259799  0.613577  0.491701   \n",
      "996  0.772594  0.758027  0.259799  0.613577  0.491701  0.417463  0.180258   \n",
      "997  0.259799  0.613577  0.491701  0.417463  0.180258  0.541591  0.037138   \n",
      "998  0.491701  0.417463  0.180258  0.541591  0.037138  0.610111  0.479882   \n",
      "\n",
      "      feat_14   feat_05   feat_15  acc_target  \n",
      "0    0.303984  0.401484  0.086124    1.000000  \n",
      "1    0.086124  0.338420  0.034517    1.000000  \n",
      "2    0.034517  0.540731  0.678994    1.000000  \n",
      "3    0.678994  0.726798  0.117432    0.888889  \n",
      "4    0.117432  0.920824  0.101476    1.000000  \n",
      "..        ...       ...       ...         ...  \n",
      "994  0.613577  0.491701  0.417463    1.000000  \n",
      "995  0.417463  0.180258  0.541591    1.000000  \n",
      "996  0.541591  0.037138  0.610111    1.000000  \n",
      "997  0.610111  0.479882  0.363861    1.000000  \n",
      "998  0.363861  0.155007  0.434110    1.000000  \n",
      "\n",
      "[999 rows x 11 columns]\n"
     ]
    }
   ],
   "source": [
    "import pandas as pd\n",
    "\n",
    "dataset_original = pd.read_csv(\"/home/rajendran/DatasetWithAccuracy.csv\")\n",
    "\n",
    "generated_dataset = pd.DataFrame({\n",
    "    'feat_01': [],\n",
    "    'feat_11': [],\n",
    "    'feat_02': [],\n",
    "    'feat_12': [],\n",
    "    'feat_03': [],\n",
    "    'feat_13': [],\n",
    "    'feat_04': [],\n",
    "    'feat_14': [],\n",
    "    'feat_05': [],\n",
    "    'feat_15': [],\n",
    "    'acc_target': []\n",
    "})\n",
    "\n",
    "start = 0\n",
    "end = 5\n",
    "for i in range(len(dataset_original) - 4):\n",
    "    row_values = {\n",
    "        'feat_01': dataset_original.loc[i][0],\n",
    "        'feat_11': dataset_original.loc[i][1],\n",
    "        'feat_02': dataset_original.loc[i+1][0],\n",
    "        'feat_12': dataset_original.loc[i+1][1],\n",
    "        'feat_03': dataset_original.loc[i+2][0],\n",
    "        'feat_13': dataset_original.loc[i+2][1], \n",
    "        'feat_04': dataset_original.loc[i+3][0],\n",
    "        'feat_14': dataset_original.loc[i+3][1], \n",
    "        'feat_05': dataset_original.loc[i+4][0],\n",
    "        'feat_15': dataset_original.loc[i+4][1],  \n",
    "        'acc_target': dataset_original.loc[i][2]\n",
    "    }\n",
    "    generated_dataset = generated_dataset.append(row_values, ignore_index=True)\n",
    "    \n",
    "#print(generated_dataset)\n",
    "\n",
    "generated_dataset.to_csv('/home/rajendran/generated_dataset.csv', index=False)\n"
   ]
  },
  {
   "cell_type": "code",
   "execution_count": null,
   "id": "af1458d4",
   "metadata": {},
   "outputs": [],
   "source": []
  }
 ],
 "metadata": {
  "kernelspec": {
   "display_name": "Python 3 (ipykernel)",
   "language": "python",
   "name": "python3"
  },
  "language_info": {
   "codemirror_mode": {
    "name": "ipython",
    "version": 3
   },
   "file_extension": ".py",
   "mimetype": "text/x-python",
   "name": "python",
   "nbconvert_exporter": "python",
   "pygments_lexer": "ipython3",
   "version": "3.9.7"
  }
 },
 "nbformat": 4,
 "nbformat_minor": 5
}
