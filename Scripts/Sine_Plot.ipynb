{
 "cells": [
  {
   "cell_type": "code",
   "execution_count": 1,
   "id": "3ee9592e",
   "metadata": {},
   "outputs": [
    {
     "data": {
      "text/plain": [
       "<Figure size 432x288 with 0 Axes>"
      ]
     },
     "metadata": {},
     "output_type": "display_data"
    }
   ],
   "source": [
    "import pandas as pd\n",
    "import matplotlib.pyplot as plt\n",
    "\n",
    "# Load the CSV files into pandas DataFrames\n",
    "prediction_files = [\n",
    "    \"F:\\Laurea Magistrale\\Master Thesis\\Dataset\\Sine\\Results\\MinMax_Hoeff_10_10_5\\minmaxhoeff_5feat_dt_pred_10_10_5_t80t20_pred\\prediction.csv\",\n",
    "    \"F:\\Laurea Magistrale\\Master Thesis\\Dataset\\Sine\\Results\\MinMax_Hoeff_10_10_5\\minmaxhoeff_5feat_rf_pred_10_10_5_t80t20_pred\\prediction.csv\",\n",
    "    \"F:\\Laurea Magistrale\\Master Thesis\\Dataset\\Sine\\Results\\MinMax_Hoeff_10_10_5\\minmaxhoeff_5feat_xg_pred_10_10_5_t80t20_pred\\prediction.csv\",\n",
    "    \"F:\\Laurea Magistrale\\Master Thesis\\Dataset\\Sine\\Results\\MinMax_Hoeff_10_10_5\\minmaxhoeff_5feat_lrr_pred_10_10_5_t80t20_pred\\prediction.csv\",\n",
    "    \"F:\\Laurea Magistrale\\Master Thesis\\Dataset\\Sine\\Results\\MinMax_Hoeff_10_10_5\\minmaxhoeff_5feat_svr_pred_10_10_5_t80t20_pred\\prediction.csv\",\n",
    "]\n",
    "\n",
    "# Define the plot titles\n",
    "plot_titles = [\n",
    "    \"Decision Tree\",\n",
    "    \"Random Forest\",\n",
    "    \"XGBoost\",\n",
    "    \"LLRidge\",\n",
    "    \"SVR\",\n",
    "]\n",
    "\n",
    "# Plot each prediction file as a separate plot\n",
    "for i, file_path in enumerate(prediction_files):\n",
    "    # Load the \"real\" and \"pred\" values as separate lists\n",
    "    prediction = pd.read_csv(file_path, low_memory=False)\n",
    "    real = prediction[\"real\"].tolist()\n",
    "    pred = prediction[\"pred\"].tolist()\n",
    "\n",
    "    # Create a list of row numbers for the x-axis\n",
    "    x = list(range(1, len(real) + 1))\n",
    "\n",
    "    # Create a scatter plot\n",
    "    plt.scatter(x, real, label=\"Real\", s=10)\n",
    "    plt.scatter(x, pred, label=\"Pred\", s=10)\n",
    "\n",
    "    # Add a legend and axis labels\n",
    "    plt.legend(bbox_to_anchor=(1, 0.5))\n",
    "    plt.title(plot_titles[i])\n",
    "    plt.xlabel(\"Instance\")\n",
    "    plt.ylabel(\"Accuracy_value\")\n",
    "    #plt.show()\n",
    "    # Save the plot as a PNG file\n",
    "    plt.savefig(f\"MinMax_plot_5feat_10_10_5__t80t20{i}.png\", bbox_inches=\"tight\")\n",
    "    \n",
    "    # Clear the plot for the next iteration\n",
    "    plt.clf()\n",
    "    "
   ]
  },
  {
   "cell_type": "code",
   "execution_count": null,
   "id": "24bd9d5d",
   "metadata": {},
   "outputs": [],
   "source": []
  }
 ],
 "metadata": {
  "kernelspec": {
   "display_name": "Python 3 (ipykernel)",
   "language": "python",
   "name": "python3"
  },
  "language_info": {
   "codemirror_mode": {
    "name": "ipython",
    "version": 3
   },
   "file_extension": ".py",
   "mimetype": "text/x-python",
   "name": "python",
   "nbconvert_exporter": "python",
   "pygments_lexer": "ipython3",
   "version": "3.9.7"
  }
 },
 "nbformat": 4,
 "nbformat_minor": 5
}
